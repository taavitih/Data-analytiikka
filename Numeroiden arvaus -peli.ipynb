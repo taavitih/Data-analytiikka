{
 "cells": [
  {
   "cell_type": "code",
   "execution_count": 1,
   "metadata": {},
   "outputs": [
    {
     "name": "stdout",
     "output_type": "stream",
     "text": [
      "Selaa alemmas peliin...\n"
     ]
    }
   ],
   "source": [
    "import random\n",
    "\n",
    "print(\"Selaa alemmas peliin...\")"
   ]
  },
  {
   "cell_type": "code",
   "execution_count": 2,
   "metadata": {},
   "outputs": [
    {
     "name": "stdout",
     "output_type": "stream",
     "text": [
      "Hei! Mikä on nimesi?\n",
      "\n",
      "Pauliina\n",
      "\n",
      "Hauska tavata Pauliina! Pelataan peliä, jossa arvaat mitä numeroa ajattelen 1 ja 10 välillä. Aloitetaan!\n",
      "3\n",
      "Meni vähän ali. Arvaa uudestaan.\n",
      "4\n",
      "Meni vähän ali. Arvaa uudestaan.\n",
      "6\n",
      "Meni vähän ali. Arvaa uudestaan.\n",
      "9\n",
      "\n",
      "Hyvin arvattu Pauliina! Arvasit numeroni 4:lla arvauksella.\n",
      "\n",
      "\n",
      "Pelataanpa seuraavaksi peliä toisinpäin, eli sinä ajattelet jotain numeroa 1 ja 10 välillä, minä arvaan.\n",
      "Kirjoita ajattelemasi numero tähän, lupaan etten katso: 8\n",
      "\n",
      "Aistin että se on suurempi kuin 5\n",
      "\n",
      "Ajattelemasi numero on selvästi  8\n",
      "Ja arvasin tämän jo 2 :lla yrityksellä.\n",
      "\n",
      "Ihmeellistä eikö totta! Kiitos Pauliina kun pelasit kanssasi.\n"
     ]
    }
   ],
   "source": [
    "guessesTaken=0\n",
    "print(\"Hei! Mikä on nimesi?\")\n",
    "nimi=input(\"\\n\")\n",
    "\n",
    "print(\"\\nHauska tavata \" +nimi+ \"! Pelataan peliä, jossa arvaat mitä numeroa ajattelen 1 ja 10 välillä. Aloitetaan!\")\n",
    "numero = random.randint(1,10)\n",
    "while guessesTaken < 5:\n",
    "    arvaus = input()\n",
    "    arvaus = int(arvaus)\n",
    "    \n",
    "    guessesTaken = guessesTaken +1\n",
    "    \n",
    "    if arvaus < numero:\n",
    "        print(\"Meni vähän ali. Arvaa uudestaan.\")\n",
    "     \n",
    "    if arvaus > numero:\n",
    "        print(\"Meni vähän yli. Arvaa uudestaan\")\n",
    "    \n",
    "    if arvaus == numero:\n",
    "        break\n",
    "        \n",
    "if arvaus == numero:\n",
    "    guessesTaken = str(guessesTaken)\n",
    "    print(\"\\nHyvin arvattu \" +nimi+ \"! Arvasit numeroni \" +guessesTaken+ \":lla arvauksella.\")\n",
    "    \n",
    "if arvaus != numero:\n",
    "    numero = str(numero)\n",
    "    print(\"Nyt et ihan onnistunut, ajattelemani numero oli \" +numero)\n",
    "    \n",
    "print(\"\\n\\nPelataanpa seuraavaksi peliä toisinpäin, eli sinä ajattelet jotain numeroa 1 ja 10 välillä, minä arvaan.\")\n",
    "arvaukseni = int(input(\"Kirjoita ajattelemasi numero tähän, lupaan etten katso: \"))\n",
    "tries = 1\n",
    "mina = random.randint(0,10)\n",
    "\n",
    "low=1\n",
    "high=10\n",
    "guess=5\n",
    "\n",
    "while guess != arvaukseni:\n",
    "    guess = (low+high)//2\n",
    "    if guess > arvaukseni:\n",
    "        high = guess\n",
    "        print(\"\\nAistin että se on pienempi kuin\", guess)\n",
    "        tries += 1\n",
    "    elif guess < arvaukseni:\n",
    "        low = guess + 1\n",
    "        print(\"\\nAistin että se on suurempi kuin\", guess)\n",
    "        tries += 1\n",
    "\n",
    "print(\"\\nAjattelemasi numero on selvästi \", arvaukseni)\n",
    "print(\"Ja arvasin tämän jo\", tries,\":lla yrityksellä.\")\n",
    "print(\"\\nIhmeellistä eikö totta! Kiitos \" +nimi+ \" kun pelasit kanssasi.\")"
   ]
  },
  {
   "cell_type": "code",
   "execution_count": null,
   "metadata": {},
   "outputs": [],
   "source": []
  }
 ],
 "metadata": {
  "kernelspec": {
   "display_name": "Python 3",
   "language": "python",
   "name": "python3"
  },
  "language_info": {
   "codemirror_mode": {
    "name": "ipython",
    "version": 3
   },
   "file_extension": ".py",
   "mimetype": "text/x-python",
   "name": "python",
   "nbconvert_exporter": "python",
   "pygments_lexer": "ipython3",
   "version": "3.7.1"
  }
 },
 "nbformat": 4,
 "nbformat_minor": 2
}
